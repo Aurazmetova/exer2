{
 "cells": [
  {
   "cell_type": "code",
   "execution_count": 3,
   "metadata": {},
   "outputs": [
    {
     "name": "stdout",
     "output_type": "stream",
     "text": [
      "Username available.\n",
      "Username unavailable.\n",
      "Username available.\n",
      "Username available.\n",
      "Username unavailable.\n"
     ]
    }
   ],
   "source": [
    "current_users = [\"Aygerim\", \"Perizat\", \"Javlon\", \"Farangiz\", \"Fatima\"]\n",
    "new_users = [\"Doston\",\"Javlon\",\"Asal\", \"Madina\", \"aygerim\"]\n",
    "for username in new_users:\n",
    "    if username.title() in current_users:\n",
    "        print(\"Username unavailable\")\n",
    "    else:\n",
    "        print(\"Username available\")"
   ]
  },
  {
   "cell_type": "code",
   "execution_count": null,
   "metadata": {},
   "outputs": [],
   "source": []
  }
 ],
 "metadata": {
  "kernelspec": {
   "display_name": "Python 3",
   "language": "python",
   "name": "python3"
  },
  "language_info": {
   "codemirror_mode": {
    "name": "ipython",
    "version": 3
   },
   "file_extension": ".py",
   "mimetype": "text/x-python",
   "name": "python",
   "nbconvert_exporter": "python",
   "pygments_lexer": "ipython3",
   "version": "3.8.5"
  }
 },
 "nbformat": 4,
 "nbformat_minor": 4
}
